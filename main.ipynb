{
 "cells": [
  {
   "cell_type": "code",
   "execution_count": 7,
   "metadata": {},
   "outputs": [],
   "source": [
    "import numpy as np"
   ]
  },
  {
   "cell_type": "code",
   "execution_count": 8,
   "metadata": {},
   "outputs": [],
   "source": [
    "# Usuarios creados\n",
    "\n",
    "usuarios = [\n",
    "    {\n",
    "        \"account\": \"123456\",\n",
    "        \"password\": \"1234\",\n",
    "        \"balance\": np.random.randint(5.0, 1000.0)\n",
    "    },\n",
    "]"
   ]
  },
  {
   "cell_type": "code",
   "execution_count": null,
   "metadata": {},
   "outputs": [],
   "source": [
    "\n",
    "end = False\n",
    "current_logged_user = None\n",
    "\n",
    "\n",
    "def validate_user():\n",
    "    print(\"=======================================\")\n",
    "    users_account = [x[\"account\"] for x in usuarios]\n",
    "    # Pedir cuenta\n",
    "    account_number = input(\"Account Number\")\n",
    "\n",
    "    if (account_number in users_account):\n",
    "        current_user_index = 0\n",
    "        for x in range(len(usuarios)):\n",
    "            if (usuarios[x][\"account\"] == account_number):\n",
    "                current_user_index = x\n",
    "        password = input(\"password\")\n",
    "        if (password == usuarios[current_user_index][\"password\"]):\n",
    "            return usuarios[current_user_index]\n",
    "            # Exit\n",
    "        else:\n",
    "            print(\"Contraseña incorrecta\")\n",
    "            return None\n",
    "            # Exit\n",
    "    else:\n",
    "        password = input(\"password\")\n",
    "        print(\"No existe esa cuenta, Nuevo usuario creado\")\n",
    "        # Si no existe la cuenta, se crea una nueva\n",
    "        created_user = {\n",
    "            \"account\": account_number,\n",
    "            \"password\": password,\n",
    "            \"balance\": np.random.randint(5.0, 1000.0)\n",
    "        }\n",
    "        usuarios.append(created_user)\n",
    "        # INICIO SESIÓN\n",
    "        return created_user\n",
    "        # Exit\n",
    "\n",
    "\n",
    "while not end:\n",
    "    while not current_logged_user:\n",
    "        current_logged_user = validate_user()\n",
    "    # Menu\n",
    "    menu_option = None\n",
    "    option = int(input(\"Menu option\"))\n",
    "    if (option == 1):\n",
    "        pass\n",
    "    if (option == 2):\n",
    "        pass\n",
    "    if (option == 3):\n",
    "        pass\n",
    "    if (option == 4):\n",
    "        pass\n",
    "    if (option == 5):\n",
    "        end = True\n",
    "\n",
    "\n",
    "print(\"EXIT\")"
   ]
  }
 ],
 "metadata": {
  "kernelspec": {
   "display_name": "personal",
   "language": "python",
   "name": "python3"
  },
  "language_info": {
   "codemirror_mode": {
    "name": "ipython",
    "version": 3
   },
   "file_extension": ".py",
   "mimetype": "text/x-python",
   "name": "python",
   "nbconvert_exporter": "python",
   "pygments_lexer": "ipython3",
   "version": "3.8.15"
  }
 },
 "nbformat": 4,
 "nbformat_minor": 2
}
