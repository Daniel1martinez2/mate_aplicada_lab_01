{
 "cells": [
  {
   "cell_type": "markdown",
   "metadata": {},
   "source": [
    "## Integrantes:\n",
    "- _Miguel Perez_\n",
    "- _Sebastián Márquez_\n",
    "- _Daniel Martínez Villegas_\n",
    "- _Mariana Lizcano_"
   ]
  },
  {
   "cell_type": "code",
   "execution_count": 135,
   "metadata": {},
   "outputs": [],
   "source": [
    "import numpy as np\n",
    "import time"
   ]
  },
  {
   "cell_type": "markdown",
   "metadata": {},
   "source": [
    "# Utils"
   ]
  },
  {
   "cell_type": "code",
   "execution_count": 136,
   "metadata": {},
   "outputs": [],
   "source": [
    "# Usuarios creados\n",
    "usuarios = [\n",
    "    {\n",
    "        \"account\": \"123456\",\n",
    "        \"password\": \"1234\",\n",
    "        \"balance\": np.random.randint(5.0, 1000.0)\n",
    "    },\n",
    "]"
   ]
  },
  {
   "cell_type": "code",
   "execution_count": 137,
   "metadata": {},
   "outputs": [],
   "source": [
    "def create_user(_account_number, _password):\n",
    "    return {\n",
    "            \"account\": _account_number,\n",
    "            \"password\": _password,\n",
    "            \"balance\": np.random.randint(5.0, 1000.0)\n",
    "        }"
   ]
  },
  {
   "cell_type": "code",
   "execution_count": 138,
   "metadata": {},
   "outputs": [],
   "source": [
    "def get_user(_account_number):\n",
    "    users_account = [x[\"account\"] for x in usuarios]\n",
    "    if (_account_number in users_account):\n",
    "        current_user_index = None\n",
    "        for x in range(len(usuarios)):\n",
    "            if (usuarios[x][\"account\"] == _account_number):\n",
    "                current_user_index = x\n",
    "\t\t# Aqui estoy retornando el usuario y el indice del usuario en la lista de usuarios\n",
    "\t\t#  El indice del usuario en la lista de usuarios es importante para poder modificar el usuario\n",
    "        return usuarios[current_user_index], current_user_index\n",
    "    else:\n",
    "        return None, None"
   ]
  },
  {
   "cell_type": "code",
   "execution_count": 139,
   "metadata": {},
   "outputs": [],
   "source": [
    "def login_user(_account_number):\n",
    "    # Obtener el usuario con la cuenta dada\n",
    "    user, _ = get_user(_account_number)\n",
    "    \n",
    "    if (user):\n",
    "        correct_password = False\n",
    "        while (not correct_password):\n",
    "            password = input(f\"password of {user['account']}: \")\n",
    "\t\t\t# Validar contraseña\n",
    "            if (password == user[\"password\"]):\n",
    "                correct_password = True\n",
    "                return user\n",
    "            else:\n",
    "                print(\"Cuenta existe, pero Contraseña incorrecta\")\n",
    "    else:\n",
    "        print(\"Usuario no encontrado\")\n",
    "        return None"
   ]
  },
  {
   "cell_type": "code",
   "execution_count": 140,
   "metadata": {},
   "outputs": [],
   "source": [
    "def validate_user():\n",
    "    # Pedir cuenta\n",
    "    account_number = input(\"Account Number: \")\n",
    "    user = login_user(account_number)\n",
    "    if (user):\n",
    "\t\t# Si la cuenta existe\n",
    "        return user\n",
    "    else:\n",
    "        # Si no existe la cuenta -> se crea nueva cuenta\n",
    "        password = input(\"Password: \")\n",
    "        new_user = create_user(account_number, password)\n",
    "        usuarios.append(new_user)\n",
    "        return new_user\n",
    "        # Exit"
   ]
  },
  {
   "cell_type": "code",
   "execution_count": 141,
   "metadata": {},
   "outputs": [],
   "source": [
    "def show_menu():\n",
    "    print(\"\"\"\n",
    "\t\tIngresa la opción que deseas realizar:\\n\n",
    "\t\t1) Consultar saldo\\n\n",
    "\t\t2) Depositar cantidad de dinero\\n\n",
    "\t\t3) Retirar dinero\\n\n",
    "\t\t4) Transferir dinero\\n\n",
    "\t\t5) Salir\\n\n",
    "\t\t---------------------------------\n",
    "\t\"\"\" )"
   ]
  },
  {
   "cell_type": "markdown",
   "metadata": {},
   "source": [
    "## Opciones"
   ]
  },
  {
   "cell_type": "code",
   "execution_count": 142,
   "metadata": {},
   "outputs": [],
   "source": [
    "def show_balance(_user):\n",
    "\tprint(f\"Tu saldo actual es: {_user['balance']}\")"
   ]
  },
  {
   "cell_type": "code",
   "execution_count": 143,
   "metadata": {},
   "outputs": [],
   "source": [
    "def deposit_money(_user):\n",
    "\tamount = float(input(\"Ingresa la cantidad a depositar: \"))\n",
    "\t_user[\"balance\"] += amount\n",
    "\t# show the time when the deposit was made\n",
    "\tprint(f\"\"\"\n",
    "\t\tDeposito de {amount} realizado a las {time.strftime('%X')}\\n\n",
    "\t\tSaldo actual: {_user['balance']}\n",
    "\t\t=================================\n",
    "\t\"\"\")"
   ]
  },
  {
   "cell_type": "code",
   "execution_count": 144,
   "metadata": {},
   "outputs": [],
   "source": [
    "def send_money(_user):\n",
    "    transanction_finalized = False\n",
    "    while not transanction_finalized:\n",
    "        user_money = input(\"Ingresa la cuenta a la que deseas transferir el dinero: \")\n",
    "        destination_account, destination_index = get_user(user_money)\n",
    "        _, logged_user_index = get_user(_user[\"account\"])\n",
    "        \n",
    "        if destination_account:\n",
    "            amount = float(input(\"Ingresa la cantidad a transferir: \"))\n",
    "            if amount > _user[\"balance\"]:\n",
    "                print(f\"Saldo insuficiente, intenta con una cantidad menor o igual a {_user['balance']}\")\n",
    "                transanction_finalized = True\n",
    "            else:\n",
    "                usuarios[logged_user_index][\"balance\"] -= amount\n",
    "                usuarios[destination_index][\"balance\"] += amount\n",
    "                print(f\"La transferencia se ha completado exitosamente. Tu saldo es de: {_user['balance']} \")\n",
    "                transanction_finalized = True\n",
    "        else:\n",
    "            print(f\"\"\"\n",
    "\t\t\t\tLa cuenta destino no existe\\n\n",
    "\t\t\t\t=================================\n",
    "\t\t\t\tLas siguientes cuentas existen:\n",
    "\t\t\t\t{[x['account'] for x in usuarios if x['account'] != _user['account']]}\n",
    "\t\t\t\"\"\")"
   ]
  },
  {
   "cell_type": "code",
   "execution_count": 145,
   "metadata": {},
   "outputs": [],
   "source": [
    "def withdraw_money(_user):\n",
    "\tamount = int(input(\"Ingresa la cantidad a retirar: \"))\n",
    "\t_, logged_user_index = get_user(_user[\"account\"])\n",
    "\tif amount > _user[\"balance\"]:\n",
    "\t\tprint(f\"Saldo insuficiente, intenta con una cantidad menor o igual a {_user['balance']}\")\n",
    "\telse:\n",
    "\t\tusuarios[logged_user_index][\"balance\"] -= amount\n",
    "\t\tprint(f\"\"\"\n",
    "\t\t\tRetiro de {amount} realizado a las {time.strftime('%X')}\\n\n",
    "\t\t\tSaldo actual: {_user['balance']}\n",
    "\t\t\t=================================\n",
    "\t\t\"\"\")"
   ]
  },
  {
   "cell_type": "markdown",
   "metadata": {},
   "source": [
    "## Aplicación"
   ]
  },
  {
   "cell_type": "code",
   "execution_count": 146,
   "metadata": {},
   "outputs": [
    {
     "name": "stdout",
     "output_type": "stream",
     "text": [
      "Cuenta existe, pero Contraseña incorrecta\n",
      "Cuenta existe, pero Contraseña incorrecta\n",
      "Cuenta existe, pero Contraseña incorrecta\n",
      "Cuenta existe, pero Contraseña incorrecta\n",
      "\n",
      "\t\tIngresa la opción que deseas realizar:\n",
      "\n",
      "\t\t1) Consultar saldo\n",
      "\n",
      "\t\t2) Depositar cantidad de dinero\n",
      "\n",
      "\t\t3) Retirar dinero\n",
      "\n",
      "\t\t4) Transferir dinero\n",
      "\n",
      "\t\t5) Salir\n",
      "\n",
      "\t\t---------------------------------\n",
      "\t\n",
      "\n",
      "\t\t\tRetiro de 10 realizado a las 20:09:33\n",
      "\n",
      "\t\t\tSaldo actual: 497\n",
      "\t\t\t=================================\n",
      "\t\t\n",
      "EXIT\n"
     ]
    }
   ],
   "source": [
    "\n",
    "end = False\n",
    "current_logged_user = None\n",
    "\n",
    "while not end:\n",
    "    menu_option = None\n",
    "    # Obtener el usuario actual\n",
    "    while not current_logged_user:\n",
    "        current_logged_user = validate_user()\n",
    "    # Menu\n",
    "    show_menu()\n",
    "    option = int(input(\"Menu option\"))\n",
    "    if (option == 1):\n",
    "        # Consultar saldo\n",
    "        show_balance(current_logged_user)\n",
    "        end = True\n",
    "    elif (option == 2):\n",
    "        # Depositar cantidad de dinero\n",
    "        deposit_money(current_logged_user)\n",
    "        end = True\n",
    "    elif (option == 3):\n",
    "        # Retirar dinero\n",
    "        withdraw_money(current_logged_user)\n",
    "        end = True\n",
    "    elif (option == 4):\n",
    "        # Transferir dinero\n",
    "        send_money(current_logged_user)\n",
    "        end = True\n",
    "    elif (option == 5):\n",
    "        # Finalizar\n",
    "        end = True\n",
    "    else:\n",
    "        end = True\n",
    "\n",
    "\n",
    "print(\"EXIT\")"
   ]
  },
  {
   "cell_type": "code",
   "execution_count": 147,
   "metadata": {},
   "outputs": [
    {
     "data": {
      "text/plain": [
       "[{'account': '123456', 'password': '1234', 'balance': 497}]"
      ]
     },
     "execution_count": 147,
     "metadata": {},
     "output_type": "execute_result"
    }
   ],
   "source": [
    "usuarios"
   ]
  }
 ],
 "metadata": {
  "kernelspec": {
   "display_name": "personal",
   "language": "python",
   "name": "python3"
  },
  "language_info": {
   "codemirror_mode": {
    "name": "ipython",
    "version": 3
   },
   "file_extension": ".py",
   "mimetype": "text/x-python",
   "name": "python",
   "nbconvert_exporter": "python",
   "pygments_lexer": "ipython3",
   "version": "3.8.15"
  }
 },
 "nbformat": 4,
 "nbformat_minor": 2
}
