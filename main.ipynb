{
 "cells": [
  {
   "cell_type": "code",
   "execution_count": 17,
   "metadata": {},
   "outputs": [],
   "source": [
    "import numpy as np\n",
    "import time"
   ]
  },
  {
   "cell_type": "code",
   "execution_count": 15,
   "metadata": {},
   "outputs": [],
   "source": [
    "# Usuarios creados\n",
    "usuarios = [\n",
    "    {\n",
    "        \"account\": \"123456\",\n",
    "        \"password\": \"1234\",\n",
    "        \"balance\": np.random.randint(5.0, 1000.0)\n",
    "    },\n",
    "]"
   ]
  },
  {
   "cell_type": "code",
   "execution_count": 8,
   "metadata": {},
   "outputs": [],
   "source": [
    "def create_user(_account_number, _password):\n",
    "    return {\n",
    "            \"account\": _account_number,\n",
    "            \"password\": _password,\n",
    "            \"balance\": np.random.randint(5.0, 1000.0)\n",
    "        }"
   ]
  },
  {
   "cell_type": "code",
   "execution_count": 9,
   "metadata": {},
   "outputs": [],
   "source": [
    "def get_user(_account_number):\n",
    "    users_account = [x[\"account\"] for x in usuarios]\n",
    "    if (_account_number in users_account):\n",
    "        for x in range(len(usuarios)):\n",
    "            if (usuarios[x][\"account\"] == _account_number):\n",
    "                current_user_index = x\n",
    "        return usuarios[current_user_index]\n",
    "    else:\n",
    "        return None"
   ]
  },
  {
   "cell_type": "code",
   "execution_count": 10,
   "metadata": {},
   "outputs": [],
   "source": [
    "def login_user(_account_number):\n",
    "    # Obtener el usuario con la cuenta dada\n",
    "    user = get_user(_account_number)\n",
    "    \n",
    "    if (user):\n",
    "        password = input(\"password\")\n",
    "\t\t# Validar contraseña\n",
    "        if (password == user[\"password\"]):\n",
    "            return user\n",
    "        else:\n",
    "            print(\"Contraseña incorrecta\")\n",
    "            return None\n",
    "    else:\n",
    "        print(\"Usuario no encontrado\")\n",
    "        return None"
   ]
  },
  {
   "cell_type": "code",
   "execution_count": 11,
   "metadata": {},
   "outputs": [],
   "source": [
    "def validate_user():\n",
    "    # Pedir cuenta\n",
    "    account_number = input(\"Account Number: \")\n",
    "    user = login_user(account_number)\n",
    "    if (user):\n",
    "\t\t# Si la cuenta existe\n",
    "        return user\n",
    "    else:\n",
    "        # Si no existe la cuenta -> se crea nueva cuenta\n",
    "        password = input(\"Password: \")\n",
    "        new_user = create_user(account_number, password)\n",
    "        usuarios.append(new_user)\n",
    "        return new_user\n",
    "        # Exit"
   ]
  },
  {
   "cell_type": "code",
   "execution_count": 12,
   "metadata": {},
   "outputs": [],
   "source": [
    "def show_menu():\n",
    "    print(\"\"\"\n",
    "\t\tIngresa la opción que deseas realizar:\\n\n",
    "\t\t1) Consultar saldo\\n\n",
    "\t\t2) Depositar cantidad de dinero\\n\n",
    "\t\t3) Retirar dinero\\n\n",
    "\t\t4) Transferir dinero\\n\n",
    "\t\t5) Salir\\n\n",
    "\t\t---------------------------------\n",
    "\t\"\"\" )"
   ]
  },
  {
   "cell_type": "code",
   "execution_count": 16,
   "metadata": {},
   "outputs": [],
   "source": [
    "def show_balance(_user):\n",
    "\tprint(f\"Tu saldo actual es: {_user['balance']}\")"
   ]
  },
  {
   "cell_type": "code",
   "execution_count": 20,
   "metadata": {},
   "outputs": [],
   "source": [
    "def deposit_money(_user):\n",
    "\tamount = float(input(\"Ingresa la cantidad a depositar: \"))\n",
    "\t_user[\"balance\"] += amount\n",
    "\t# show the time when the deposit was made\n",
    "\tprint(f\"\"\"\n",
    "\t\tDeposito de {amount} realizado a las {time.strftime('%X')}\\n\n",
    "\t\tSaldo actual: {_user['balance']}\n",
    "\t\t=================================\n",
    "\t\"\"\")"
   ]
  },
  {
   "cell_type": "code",
   "execution_count": 19,
   "metadata": {},
   "outputs": [
    {
     "name": "stdout",
     "output_type": "stream",
     "text": [
      "\n",
      "\t\tIngresa la opción que deseas realizar:\n",
      "\n",
      "\t\t1) Consultar saldo\n",
      "\n",
      "\t\t2) Depositar cantidad de dinero\n",
      "\n",
      "\t\t3) Retirar dinero\n",
      "\n",
      "\t\t4) Transferir dinero\n",
      "\n",
      "\t\t5) Salir\n",
      "\n",
      "\t\t---------------------------------\n",
      "\t\n",
      "Deposito realizado a las 15:09:56\n",
      "EXIT\n"
     ]
    }
   ],
   "source": [
    "\n",
    "end = False\n",
    "current_logged_user = None\n",
    "\n",
    "while not end:\n",
    "    while not current_logged_user:\n",
    "        current_logged_user = validate_user()\n",
    "    # Menu\n",
    "    show_menu()\n",
    "    menu_option = None\n",
    "    option = int(input(\"Menu option\"))\n",
    "    if (option == 1):\n",
    "        # Consultar saldo\n",
    "        show_balance(current_logged_user)\n",
    "        end = True\n",
    "        pass\n",
    "    if (option == 2):\n",
    "        # Depositar cantidad de dinero\n",
    "        deposit_money(current_logged_user)\n",
    "        end = True\n",
    "        pass\n",
    "    if (option == 3):\n",
    "        # Retirar dinero\n",
    "        pass\n",
    "    if (option == 4):\n",
    "        # Transferir dinero\n",
    "        pass\n",
    "    if (option == 5):\n",
    "        # Finalizar\n",
    "        end = True\n",
    "\n",
    "\n",
    "print(\"EXIT\")"
   ]
  }
 ],
 "metadata": {
  "kernelspec": {
   "display_name": "personal",
   "language": "python",
   "name": "python3"
  },
  "language_info": {
   "codemirror_mode": {
    "name": "ipython",
    "version": 3
   },
   "file_extension": ".py",
   "mimetype": "text/x-python",
   "name": "python",
   "nbconvert_exporter": "python",
   "pygments_lexer": "ipython3",
   "version": "3.8.15"
  }
 },
 "nbformat": 4,
 "nbformat_minor": 2
}
